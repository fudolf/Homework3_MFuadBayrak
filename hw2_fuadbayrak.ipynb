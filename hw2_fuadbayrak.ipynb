{
 "cells": [
  {
   "cell_type": "code",
   "execution_count": 137,
   "metadata": {},
   "outputs": [],
   "source": [
    "from __future__ import print_function, division\n",
    "\n",
    "%matplotlib inline\n",
    "\n",
    "import numpy as np\n",
    "import pandas as pd\n",
    "import nsfg\n",
    "import thinkstats2\n",
    "import math as mt\n",
    "import thinkplot"
   ]
  },
  {
   "cell_type": "code",
   "execution_count": 5,
   "metadata": {
    "collapsed": true
   },
   "outputs": [],
   "source": [
    "data=nsfg.ReadFemResp()\n",
    "resp=pd.DataFrame(data)"
   ]
  },
  {
   "cell_type": "code",
   "execution_count": 13,
   "metadata": {
    "collapsed": true
   },
   "outputs": [],
   "source": [
    "school=resp[resp[\"hieduc\"]<=10]\n",
    "university=resp[resp[\"hieduc\"]>10]"
   ]
  },
  {
   "cell_type": "code",
   "execution_count": 29,
   "metadata": {},
   "outputs": [
    {
     "name": "stdout",
     "output_type": "stream",
     "text": [
      "-University Descriptive Statistics-\n",
      "Mean is: 4.37902097902\n",
      "Median is: 3.0\n",
      "Mode is: 3\n",
      "Std is: 11.1402764933\n",
      "Variance is: 124.105760347\n"
     ]
    }
   ],
   "source": [
    "print \"-University Descriptive Statistics-\"\n",
    "print \"Mean is:\",university[\"agemomb1\"].mean()\n",
    "print \"Median is:\",university[\"agemomb1\"].median()\n",
    "print \"Mode is:\",university[\"agemomb1\"].mode()[0]\n",
    "print \"Std is:\",np.std(university[\"agemomb1\"], axis=0)\n",
    "print \"Variance is:\",np.std(university[\"agemomb1\"], axis=0)**2"
   ]
  },
  {
   "cell_type": "code",
   "execution_count": 30,
   "metadata": {},
   "outputs": [
    {
     "name": "stdout",
     "output_type": "stream",
     "text": [
      "-School Descriptive Statistics-\n",
      "Mean is: 3.82720989451\n",
      "Median is: 3.0\n",
      "Mode is: 3\n",
      "Std is: 10.6765999778\n",
      "Variance is: 113.989787086\n"
     ]
    }
   ],
   "source": [
    "print \"-School Descriptive Statistics-\"\n",
    "print \"Mean is:\",school[\"agemomb1\"].mean()\n",
    "print \"Median is:\",school[\"agemomb1\"].median()\n",
    "print \"Mode is:\",school[\"agemomb1\"].mode()[0]\n",
    "print \"Std is:\",np.std(school[\"agemomb1\"], axis=0)\n",
    "print \"Variance is:\",np.std(school[\"agemomb1\"], axis=0)**2"
   ]
  },
  {
   "cell_type": "code",
   "execution_count": 31,
   "metadata": {
    "collapsed": true
   },
   "outputs": [],
   "source": [
    "#Here we can say that mean of age of moms of universities are greater.\n",
    "#std values are similar so we can say that both values have the similar distances from the mean"
   ]
  },
  {
   "cell_type": "code",
   "execution_count": 131,
   "metadata": {},
   "outputs": [
    {
     "data": {
      "image/png": "[encoded data removed]",
      "text/plain": [
       "<matplotlib.figure.Figure at 0xfe30c50>"
      ]
     },
     "metadata": {},
     "output_type": "display_data"
    }
   ],
   "source": [
    "thinkplot.PrePlot(2)\n",
    "\n",
    "mus = [school[\"agemomb1\"].mean(),university[\"agemomb1\"].mean()]\n",
    "sigmas = [np.std(school[\"agemomb1\"], axis=0),np.std(university[\"agemomb1\"], axis=0)**2]\n",
    "\n",
    "for mu, sigma in zip(mus, sigmas):\n",
    "    xs, ps = thinkstats2.RenderNormalCdf(mu=mu, sigma=sigma, \n",
    "                                               low=0, high=5)\n",
    "    label = r'$\\mu=%g$, $\\sigma=%g$' % (mu, sigma)\n",
    "    thinkplot.Plot(xs, ps, label=label)\n",
    "\n",
    "thinkplot.Config(title='School & University Moms CDF ', xlabel='Value', ylabel='CDF',\n",
    "                 loc='upper left')"
   ]
  },
  {
   "cell_type": "code",
   "execution_count": 129,
   "metadata": {
    "collapsed": true
   },
   "outputs": [],
   "source": [
    "def PMF_Drawer(firsts, others):\n",
    "\n",
    "    first_pmf = thinkstats2.Pmf(firsts, label='School')\n",
    "    other_pmf = thinkstats2.Pmf(others, label='University')\n",
    "    width = 0.5\n",
    "\n",
    "    thinkplot.PrePlot(2, cols=2)\n",
    "    thinkplot.Hist(first_pmf, align='right', width=width)\n",
    "    thinkplot.Hist(other_pmf, align='left', width=width)\n",
    "    thinkplot.Config(xlabel='value',\n",
    "                     ylabel='Prob.')\n",
    "    "
   ]
  },
  {
   "cell_type": "code",
   "execution_count": 130,
   "metadata": {},
   "outputs": [
    {
     "data": {
      "image/png": "[encoded data removed]",
      "text/plain": [
       "<matplotlib.figure.Figure at 0xfc6e710>"
      ]
     },
     "metadata": {},
     "output_type": "display_data"
    }
   ],
   "source": [
    "PMF_Drawer(school[\"agemomb1\"],university[\"agemomb1\"])"
   ]
  },
  {
   "cell_type": "code",
   "execution_count": 125,
   "metadata": {
    "collapsed": true
   },
   "outputs": [],
   "source": [
    "def difference(firsts, others):\n",
    "\n",
    "    first_pmf = thinkstats2.Pmf(firsts, label='School')\n",
    "    other_pmf = thinkstats2.Pmf(others, label='University')\n",
    "  \n",
    "    values = range(1, 6)\n",
    "    diffs = []\n",
    "    for value in values:\n",
    "        p1 = first_pmf.Prob(value)\n",
    "        p2 = other_pmf.Prob(value)\n",
    "        diff = 100 * (p1 - p2)\n",
    "        diffs.append(diff)\n",
    "\n",
    "    thinkplot.Bar(values, diffs)\n",
    "    thinkplot.Config(title='Difference in PMFs',xlabel='values',ylabel='percentage points',legend=False)"
   ]
  },
  {
   "cell_type": "code",
   "execution_count": 126,
   "metadata": {},
   "outputs": [
    {
     "data": {
      "image/png": "[encoded data removed]",
      "text/plain": [
       "<matplotlib.figure.Figure at 0x480c17b8>"
      ]
     },
     "metadata": {},
     "output_type": "display_data"
    }
   ],
   "source": [
    "difference(school[\"agemomb1\"],university[\"agemomb1\"])"
   ]
  },
  {
   "cell_type": "code",
   "execution_count": 154,
   "metadata": {},
   "outputs": [
    {
     "data": {
      "image/png": "[encoded data removed]",
      "text/plain": [
       "<matplotlib.figure.Figure at 0x480fccc0>"
      ]
     },
     "metadata": {},
     "output_type": "display_data"
    }
   ],
   "source": [
    "thinkplot.PrePlot(2)\n",
    "\n",
    "mus = [school[\"agemomb1\"].mean(),university[\"agemomb1\"].mean()]\n",
    "sigmas = [np.std(school[\"agemomb1\"], axis=0),np.std(university[\"agemomb1\"], axis=0)**2]\n",
    "\n",
    "for mu, sigma in zip(mus, sigmas):\n",
    "    xs, ps = thinkstats2.RenderNormalCdf(mu=mu, sigma=sigma, \n",
    "                                               low=0, high=5)\n",
    "    label = r'$\\mu=%g$, $\\sigma=%g$' % (mu, sigma)\n",
    "    thinkplot.Plot(xs, ps, label=label)\n",
    "\n",
    "thinkplot.Config(title='School & University Moms CDF ', xlabel='Value', ylabel='CDF',\n",
    "                 loc='upper left')"
   ]
  },
  {
   "cell_type": "code",
   "execution_count": 175,
   "metadata": {},
   "outputs": [],
   "source": [
    "uni_c=thinkstats2.Cdf(university[\"agemomb1\"])\n",
    "school_c=thinkstats2.Cdf(school[\"agemomb1\"])\n",
    "\n",
    "prob_school_less_than_18=school_c.Prob(1)\n",
    "prob_uni_less_than_18=uni_c.Prob(1)\n",
    "remaining_uni=1-uni_c.Prob(1)\n",
    "remaining_school=1-school_c.Prob(1)"
   ]
  },
  {
   "cell_type": "code",
   "execution_count": 172,
   "metadata": {},
   "outputs": [
    {
     "data": {
      "text/plain": [
       "0.20953073845034559"
      ]
     },
     "execution_count": 172,
     "metadata": {},
     "output_type": "execute_result"
    }
   ],
   "source": [
    "prob_school_less_than_18"
   ]
  },
  {
   "cell_type": "code",
   "execution_count": 173,
   "metadata": {},
   "outputs": [
    {
     "data": {
      "text/plain": [
       "0.083916083916083919"
      ]
     },
     "execution_count": 173,
     "metadata": {},
     "output_type": "execute_result"
    }
   ],
   "source": [
    "prob_uni_less_than_18"
   ]
  },
  {
   "cell_type": "code",
   "execution_count": 176,
   "metadata": {},
   "outputs": [
    {
     "data": {
      "text/plain": [
       "0.91608391608391604"
      ]
     },
     "execution_count": 176,
     "metadata": {},
     "output_type": "execute_result"
    }
   ],
   "source": [
    "remaining_uni"
   ]
  },
  {
   "cell_type": "code",
   "execution_count": 177,
   "metadata": {},
   "outputs": [
    {
     "data": {
      "text/plain": [
       "0.79046926154965447"
      ]
     },
     "execution_count": 177,
     "metadata": {},
     "output_type": "execute_result"
    }
   ],
   "source": [
    "remaining_school"
   ]
  },
  {
   "cell_type": "code",
   "execution_count": 180,
   "metadata": {},
   "outputs": [
    {
     "data": {
      "image/png": "[encoded data removed]",
      "text/plain": [
       "<matplotlib.figure.Figure at 0x481cd470>"
      ]
     },
     "metadata": {},
     "output_type": "display_data"
    }
   ],
   "source": [
    "PMF_Drawer(school[\"intctfam\"],university[\"intctfam\"])"
   ]
  },
  {
   "cell_type": "code",
   "execution_count": 183,
   "metadata": {},
   "outputs": [],
   "source": [
    "#I picked this because they have similar values so I want to see it in pmf"
   ]
  },
  {
   "cell_type": "code",
   "execution_count": 184,
   "metadata": {
    "collapsed": true
   },
   "outputs": [],
   "source": [
    "#references:\n",
    "#thinkstats2 book\n",
    "#week7 exercise file"
   ]
  },
  {
   "cell_type": "code",
   "execution_count": null,
   "metadata": {
    "collapsed": true
   },
   "outputs": [],
   "source": []
  }
 ],
 "metadata": {
  "kernelspec": {
   "display_name": "Python 2",
   "language": "python",
   "name": "python2"
  },
  "language_info": {
   "codemirror_mode": {
    "name": "ipython",
    "version": 2
   },
   "file_extension": ".py",
   "mimetype": "text/x-python",
   "name": "python",
   "nbconvert_exporter": "python",
   "pygments_lexer": "ipython2",
   "version": "2.7.13"
  }
 },
 "nbformat": 4,
 "nbformat_minor": 2
}
